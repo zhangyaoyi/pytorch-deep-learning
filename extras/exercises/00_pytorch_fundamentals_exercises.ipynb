{
 "nbformat": 4,
 "nbformat_minor": 0,
 "metadata": {
  "colab": {
   "name": "00_pytorch_fundamentals_exercises.ipynb",
   "provenance": [],
   "collapsed_sections": []
  },
  "kernelspec": {
   "name": "python3",
   "display_name": "Python 3 (ipykernel)",
   "language": "python"
  },
  "language_info": {
   "name": "python"
  },
  "accelerator": "GPU"
 },
 "cells": [
  {
   "cell_type": "markdown",
   "source": [
    "# 00. PyTorch Fundamentals Exercises\n",
    "\n",
    "### 1. Documentation reading \n",
    "\n",
    "A big part of deep learning (and learning to code in general) is getting familiar with the documentation of a certain framework you're using. We'll be using the PyTorch documentation a lot throughout the rest of this course. So I'd recommend spending 10-minutes reading the following (it's okay if you don't get some things for now, the focus is not yet full understanding, it's awareness):\n",
    "  * The documentation on [`torch.Tensor`](https://pytorch.org/docs/stable/tensors.html#torch-tensor).\n",
    "  * The documentation on [`torch.cuda`](https://pytorch.org/docs/master/notes/cuda.html#cuda-semantics).\n",
    "\n"
   ],
   "metadata": {
    "id": "AzDBM_v4iMe7"
   }
  },
  {
   "cell_type": "code",
   "source": [
    "# No code solution (reading)"
   ],
   "metadata": {
    "id": "bGD0oD8Kizak"
   },
   "execution_count": 1,
   "outputs": []
  },
  {
   "cell_type": "markdown",
   "source": [
    "### 2. Create a random tensor with shape `(7, 7)`.\n"
   ],
   "metadata": {
    "id": "__iXqqz-ioUJ"
   }
  },
  {
   "cell_type": "code",
   "source": [
    "# Import torch\n",
    "import torch\n",
    "\n",
    "# Create random tensor\n",
    "x = torch.rand((7,7))\n",
    "x"
   ],
   "metadata": {
    "id": "6pUq9Dc8i2L7",
    "ExecuteTime": {
     "end_time": "2024-10-08T01:28:14.978324Z",
     "start_time": "2024-10-08T01:27:14.137592Z"
    }
   },
   "outputs": [
    {
     "data": {
      "text/plain": [
       "tensor([[0.4210, 0.1638, 0.7791, 0.4027, 0.0819, 0.0597, 0.1039],\n",
       "        [0.0360, 0.4368, 0.2546, 0.8696, 0.0404, 0.4529, 0.2798],\n",
       "        [0.4084, 0.0826, 0.5266, 0.8150, 0.7740, 0.3043, 0.7418],\n",
       "        [0.5891, 0.0237, 0.1225, 0.3045, 0.4188, 0.5577, 0.1507],\n",
       "        [0.2791, 0.7750, 0.9471, 0.7519, 0.3535, 0.9101, 0.0450],\n",
       "        [0.5016, 0.4577, 0.9212, 0.8111, 0.0017, 0.0997, 0.8754],\n",
       "        [0.4931, 0.6595, 0.4983, 0.3974, 0.4187, 0.3353, 0.1170]])"
      ]
     },
     "execution_count": 2,
     "metadata": {},
     "output_type": "execute_result"
    }
   ],
   "execution_count": 2
  },
  {
   "cell_type": "markdown",
   "source": [
    "### 3. Perform a matrix multiplication on the tensor from 2 with another random tensor with shape `(1, 7)` (hint: you may have to transpose the second tensor)."
   ],
   "metadata": {
    "id": "9-XxvRLfiqkR"
   }
  },
  {
   "cell_type": "code",
   "source": [
    "# Create another random tensor\n",
    "y = torch.rand(1,7).transpose(0,1)\n",
    "# Perform matrix multiplication \n",
    "z = torch.matmul(x,y)\n",
    "z"
   ],
   "metadata": {
    "id": "NcLqR0Sbi_vT",
    "ExecuteTime": {
     "end_time": "2024-10-08T01:43:07.126352Z",
     "start_time": "2024-10-08T01:43:07.120646Z"
    }
   },
   "outputs": [
    {
     "data": {
      "text/plain": [
       "tensor([[0.7297],\n",
       "        [0.6350],\n",
       "        [1.0212],\n",
       "        [0.7738],\n",
       "        [1.3421],\n",
       "        [1.2234],\n",
       "        [0.9299]])"
      ]
     },
     "execution_count": 4,
     "metadata": {},
     "output_type": "execute_result"
    }
   ],
   "execution_count": 4
  },
  {
   "cell_type": "markdown",
   "source": [
    "### 4. Set the random seed to `0` and do 2 & 3 over again.\n",
    "\n",
    "The output should be:\n",
    "```\n",
    "(tensor([[1.8542],\n",
    "         [1.9611],\n",
    "         [2.2884],\n",
    "         [3.0481],\n",
    "         [1.7067],\n",
    "         [2.5290],\n",
    "         [1.7989]]), torch.Size([7, 1]))\n",
    "```"
   ],
   "metadata": {
    "id": "eiutdKUFiryU"
   }
  },
  {
   "cell_type": "code",
   "source": [
    "# Set manual seed\n",
    "torch.manual_seed(1234)\n",
    "\n",
    "# Create two random tensors\n",
    "x1 = torch.rand(7,7)\n",
    "torch.manual_seed(1234)\n",
    "x2 = torch.rand(7,7)\n",
    "print(x1)\n",
    "print(x2)\n",
    "# Matrix multiply tensors\n",
    "z1 = torch.matmul(x1,x2)\n",
    "print(z1)"
   ],
   "metadata": {
    "id": "D-lOWI_1jRMm",
    "ExecuteTime": {
     "end_time": "2024-10-08T01:50:26.825157Z",
     "start_time": "2024-10-08T01:50:26.819053Z"
    }
   },
   "outputs": [
    {
     "name": "stdout",
     "output_type": "stream",
     "text": [
      "tensor([[0.0290, 0.4019, 0.2598, 0.3666, 0.0583, 0.7006, 0.0518],\n",
      "        [0.4681, 0.6738, 0.3315, 0.7837, 0.5631, 0.7749, 0.8208],\n",
      "        [0.2793, 0.6817, 0.2837, 0.6567, 0.2388, 0.7313, 0.6012],\n",
      "        [0.3043, 0.2548, 0.6294, 0.9665, 0.7399, 0.4517, 0.4757],\n",
      "        [0.7842, 0.1525, 0.6662, 0.3343, 0.7893, 0.3216, 0.5247],\n",
      "        [0.6688, 0.8436, 0.4265, 0.9561, 0.0770, 0.4108, 0.0014],\n",
      "        [0.5414, 0.6419, 0.2976, 0.7077, 0.4189, 0.0655, 0.8839]])\n",
      "tensor([[0.0290, 0.4019, 0.2598, 0.3666, 0.0583, 0.7006, 0.0518],\n",
      "        [0.4681, 0.6738, 0.3315, 0.7837, 0.5631, 0.7749, 0.8208],\n",
      "        [0.2793, 0.6817, 0.2837, 0.6567, 0.2388, 0.7313, 0.6012],\n",
      "        [0.3043, 0.2548, 0.6294, 0.9665, 0.7399, 0.4517, 0.4757],\n",
      "        [0.7842, 0.1525, 0.6662, 0.3343, 0.7893, 0.3216, 0.5247],\n",
      "        [0.6688, 0.8436, 0.4265, 0.9561, 0.0770, 0.4108, 0.0014],\n",
      "        [0.5414, 0.6419, 0.2976, 0.7077, 0.4189, 0.0655, 0.8839]])\n",
      "tensor([[0.9155, 1.1862, 0.7983, 1.5767, 0.6830, 0.9973, 0.7394],\n",
      "        [2.0643, 2.3342, 1.8821, 3.1848, 1.9137, 1.9997, 2.1715],\n",
      "        [1.6082, 1.9715, 1.4422, 2.6622, 1.4504, 1.6446, 1.7147],\n",
      "        [1.7379, 1.7685, 1.7775, 2.6746, 1.8447, 1.7622, 1.8724],\n",
      "        [1.5001, 1.6858, 1.4729, 2.1104, 1.4056, 1.7262, 1.6038],\n",
      "        [1.1603, 1.7308, 1.4031, 2.5301, 1.4163, 2.0597, 1.4806],\n",
      "        [1.4655, 1.7198, 1.4533, 2.4091, 1.6937, 1.6336, 2.0716]])\n"
     ]
    }
   ],
   "execution_count": 7
  },
  {
   "cell_type": "markdown",
   "source": [
    "### 5. Speaking of random seeds, we saw how to set it with `torch.manual_seed()` but is there a GPU equivalent? (hint: you'll need to look into the documentation for `torch.cuda` for this one)\n",
    "  * If there is, set the GPU random seed to `1234`."
   ],
   "metadata": {
    "id": "ezY6ks9Cis37"
   }
  },
  {
   "cell_type": "code",
   "source": [
    "# Set random seed on the GPU\n",
    "torch.cuda.manual_seed(1234)"
   ],
   "metadata": {
    "id": "_LKWcfSTjp00",
    "ExecuteTime": {
     "end_time": "2024-10-08T02:17:05.791928Z",
     "start_time": "2024-10-08T02:17:05.788759Z"
    }
   },
   "outputs": [],
   "execution_count": 8
  },
  {
   "cell_type": "markdown",
   "source": [
    "\n",
    "### 6. Create two random tensors of shape `(2, 3)` and send them both to the GPU (you'll need access to a GPU for this). Set `torch.manual_seed(1234)` when creating the tensors (this doesn't have to be the GPU random seed). The output should be something like:\n",
    "\n",
    "```\n",
    "Device: cuda\n",
    "(tensor([[0.0290, 0.4019, 0.2598],\n",
    "         [0.3666, 0.0583, 0.7006]], device='cuda:0'),\n",
    " tensor([[0.0518, 0.4681, 0.6738],\n",
    "         [0.3315, 0.7837, 0.5631]], device='cuda:0'))\n",
    "```"
   ],
   "metadata": {
    "id": "Ir9qSaj6it4n"
   }
  },
  {
   "cell_type": "code",
   "source": [
    "# Set random seed\n",
    "torch.cuda.manual_seed(1234)\n",
    "\n",
    "# Check for access to GPU\n",
    "torch.cuda.is_available()\n",
    "# Create two random tensors on GPU\n",
    "x2 = torch.rand(2,3, device=\"cuda:0\")\n",
    "torch.cuda.manual_seed(1234)\n",
    "y2 = torch.rand(2,3, device=\"cuda:0\")\n",
    "print(x2)\n",
    "print(y2)"
   ],
   "metadata": {
    "id": "azXExiFZj5nm",
    "ExecuteTime": {
     "end_time": "2024-10-08T02:28:25.928490Z",
     "start_time": "2024-10-08T02:28:25.924051Z"
    }
   },
   "outputs": [
    {
     "name": "stdout",
     "output_type": "stream",
     "text": [
      "tensor([[0.1272, 0.8167, 0.5440],\n",
      "        [0.6601, 0.2721, 0.9737]], device='cuda:0')\n",
      "tensor([[0.1272, 0.8167, 0.5440],\n",
      "        [0.6601, 0.2721, 0.9737]], device='cuda:0')\n"
     ]
    }
   ],
   "execution_count": 32
  },
  {
   "cell_type": "markdown",
   "source": [
    "\n",
    "### 7. Perform a matrix multiplication on the tensors you created in 6 (again, you may have to adjust the shapes of one of the tensors).\n",
    "\n",
    "The output should look like:\n",
    "```\n",
    "(tensor([[0.3647, 0.4709],\n",
    "         [0.5184, 0.5617]], device='cuda:0'), torch.Size([2, 2]))\n",
    "```"
   ],
   "metadata": {
    "id": "5TlAxeiSiu1y"
   }
  },
  {
   "cell_type": "code",
   "source": [
    "# Perform matmul on tensor_A and tensor_B\n",
    "z2 = torch.matmul(x2,y2.transpose(0,1))\n",
    "z2"
   ],
   "metadata": {
    "id": "fAeG7ox0lHEO",
    "ExecuteTime": {
     "end_time": "2024-10-08T02:29:50.202671Z",
     "start_time": "2024-10-08T02:29:50.198370Z"
    }
   },
   "outputs": [
    {
     "data": {
      "text/plain": [
       "tensor([[0.9792, 0.8358],\n",
       "        [0.8358, 1.4578]], device='cuda:0')"
      ]
     },
     "execution_count": 36,
     "metadata": {},
     "output_type": "execute_result"
    }
   ],
   "execution_count": 36
  },
  {
   "cell_type": "markdown",
   "source": [
    "### 8. Find the maximum and minimum values of the output of 7."
   ],
   "metadata": {
    "id": "G7qfa5CSivwg"
   }
  },
  {
   "cell_type": "code",
   "source": [
    "# Find max\n",
    "z2.max()\n",
    "# Find min\n",
    "z2.min()"
   ],
   "metadata": {
    "id": "Fu8_3mZpllOd",
    "ExecuteTime": {
     "end_time": "2024-10-08T02:30:30.514639Z",
     "start_time": "2024-10-08T02:30:30.509408Z"
    }
   },
   "outputs": [
    {
     "data": {
      "text/plain": [
       "tensor(0.8358, device='cuda:0')"
      ]
     },
     "execution_count": 38,
     "metadata": {},
     "output_type": "execute_result"
    }
   ],
   "execution_count": 38
  },
  {
   "cell_type": "markdown",
   "source": [
    "### 9. Find the maximum and minimum index values of the output of 7."
   ],
   "metadata": {
    "id": "wrTj5FgNiw47"
   }
  },
  {
   "cell_type": "code",
   "source": [
    "# Find arg max\n",
    "z2.argmax()\n",
    "\n",
    "# Find arg min\n",
    "z2.argmin()"
   ],
   "metadata": {
    "id": "CCEKt4K2lsfQ",
    "ExecuteTime": {
     "end_time": "2024-10-08T02:31:09.676629Z",
     "start_time": "2024-10-08T02:31:09.660090Z"
    }
   },
   "outputs": [
    {
     "data": {
      "text/plain": [
       "tensor(1, device='cuda:0')"
      ]
     },
     "execution_count": 40,
     "metadata": {},
     "output_type": "execute_result"
    }
   ],
   "execution_count": 40
  },
  {
   "cell_type": "markdown",
   "source": [
    "\n",
    "### 10. Make a random tensor with shape `(1, 1, 1, 10)` and then create a new tensor with all the `1` dimensions removed to be left with a tensor of shape `(10)`. Set the seed to `7` when you create it and print out the first tensor and it's shape as well as the second tensor and it's shape.\n",
    "\n",
    "The output should look like:\n",
    "\n",
    "```\n",
    "tensor([[[[0.5349, 0.1988, 0.6592, 0.6569, 0.2328, 0.4251, 0.2071, 0.6297,\n",
    "           0.3653, 0.8513]]]]) torch.Size([1, 1, 1, 10])\n",
    "tensor([0.5349, 0.1988, 0.6592, 0.6569, 0.2328, 0.4251, 0.2071, 0.6297, 0.3653,\n",
    "        0.8513]) torch.Size([10])\n",
    "```"
   ],
   "metadata": {
    "id": "hmeybz4uixy7"
   }
  },
  {
   "cell_type": "code",
   "source": [
    "# Set seed\n",
    "torch.manual_seed(7)\n",
    "\n",
    "# Create random tensor\n",
    "t3 = torch.rand(2,2,2,10)\n",
    "\n",
    "# Remove single dimensions\n",
    "t3 = t3.squeeze()\n",
    "print(t3, t3.shape)\n",
    "t3 = t3.squeeze()\n",
    "print(t3, t3.shape)\n",
    "t3 = t3.squeeze()\n",
    "print(t3, t3.shape)\n",
    "\n",
    "# Print out tensors and their shapes\n"
   ],
   "metadata": {
    "id": "TQ9zbRzVl1jV",
    "ExecuteTime": {
     "end_time": "2024-10-08T03:15:08.825263Z",
     "start_time": "2024-10-08T03:15:08.819617Z"
    }
   },
   "outputs": [
    {
     "name": "stdout",
     "output_type": "stream",
     "text": [
      "tensor([[[[0.5349, 0.1988, 0.6592, 0.6569, 0.2328, 0.4251, 0.2071, 0.6297,\n",
      "           0.3653, 0.8513],\n",
      "          [0.8549, 0.5509, 0.2868, 0.2063, 0.4451, 0.3593, 0.7204, 0.0731,\n",
      "           0.9699, 0.1078]],\n",
      "\n",
      "         [[0.8829, 0.4132, 0.7572, 0.6948, 0.5209, 0.5932, 0.8797, 0.6286,\n",
      "           0.7653, 0.1132],\n",
      "          [0.8559, 0.6721, 0.6267, 0.5691, 0.7437, 0.9592, 0.3887, 0.2214,\n",
      "           0.3742, 0.1953]]],\n",
      "\n",
      "\n",
      "        [[[0.7405, 0.2529, 0.2332, 0.9314, 0.9575, 0.5575, 0.4134, 0.4355,\n",
      "           0.7369, 0.0331],\n",
      "          [0.0914, 0.8994, 0.9936, 0.4703, 0.1049, 0.5137, 0.2674, 0.4990,\n",
      "           0.7447, 0.7213]],\n",
      "\n",
      "         [[0.4414, 0.5550, 0.6361, 0.1081, 0.3305, 0.5196, 0.2147, 0.2816,\n",
      "           0.6679, 0.7878],\n",
      "          [0.5070, 0.3055, 0.7738, 0.2259, 0.3826, 0.9717, 0.5921, 0.5352,\n",
      "           0.6686, 0.3781]]]]) torch.Size([2, 2, 2, 10])\n",
      "tensor([[[[0.5349, 0.1988, 0.6592, 0.6569, 0.2328, 0.4251, 0.2071, 0.6297,\n",
      "           0.3653, 0.8513],\n",
      "          [0.8549, 0.5509, 0.2868, 0.2063, 0.4451, 0.3593, 0.7204, 0.0731,\n",
      "           0.9699, 0.1078]],\n",
      "\n",
      "         [[0.8829, 0.4132, 0.7572, 0.6948, 0.5209, 0.5932, 0.8797, 0.6286,\n",
      "           0.7653, 0.1132],\n",
      "          [0.8559, 0.6721, 0.6267, 0.5691, 0.7437, 0.9592, 0.3887, 0.2214,\n",
      "           0.3742, 0.1953]]],\n",
      "\n",
      "\n",
      "        [[[0.7405, 0.2529, 0.2332, 0.9314, 0.9575, 0.5575, 0.4134, 0.4355,\n",
      "           0.7369, 0.0331],\n",
      "          [0.0914, 0.8994, 0.9936, 0.4703, 0.1049, 0.5137, 0.2674, 0.4990,\n",
      "           0.7447, 0.7213]],\n",
      "\n",
      "         [[0.4414, 0.5550, 0.6361, 0.1081, 0.3305, 0.5196, 0.2147, 0.2816,\n",
      "           0.6679, 0.7878],\n",
      "          [0.5070, 0.3055, 0.7738, 0.2259, 0.3826, 0.9717, 0.5921, 0.5352,\n",
      "           0.6686, 0.3781]]]]) torch.Size([2, 2, 2, 10])\n",
      "tensor([[[[0.5349, 0.1988, 0.6592, 0.6569, 0.2328, 0.4251, 0.2071, 0.6297,\n",
      "           0.3653, 0.8513],\n",
      "          [0.8549, 0.5509, 0.2868, 0.2063, 0.4451, 0.3593, 0.7204, 0.0731,\n",
      "           0.9699, 0.1078]],\n",
      "\n",
      "         [[0.8829, 0.4132, 0.7572, 0.6948, 0.5209, 0.5932, 0.8797, 0.6286,\n",
      "           0.7653, 0.1132],\n",
      "          [0.8559, 0.6721, 0.6267, 0.5691, 0.7437, 0.9592, 0.3887, 0.2214,\n",
      "           0.3742, 0.1953]]],\n",
      "\n",
      "\n",
      "        [[[0.7405, 0.2529, 0.2332, 0.9314, 0.9575, 0.5575, 0.4134, 0.4355,\n",
      "           0.7369, 0.0331],\n",
      "          [0.0914, 0.8994, 0.9936, 0.4703, 0.1049, 0.5137, 0.2674, 0.4990,\n",
      "           0.7447, 0.7213]],\n",
      "\n",
      "         [[0.4414, 0.5550, 0.6361, 0.1081, 0.3305, 0.5196, 0.2147, 0.2816,\n",
      "           0.6679, 0.7878],\n",
      "          [0.5070, 0.3055, 0.7738, 0.2259, 0.3826, 0.9717, 0.5921, 0.5352,\n",
      "           0.6686, 0.3781]]]]) torch.Size([2, 2, 2, 10])\n"
     ]
    }
   ],
   "execution_count": 50
  },
  {
   "metadata": {},
   "cell_type": "code",
   "outputs": [],
   "execution_count": null,
   "source": ""
  }
 ]
}
