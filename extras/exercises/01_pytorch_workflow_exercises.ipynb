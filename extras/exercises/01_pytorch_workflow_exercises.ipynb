{
 "nbformat": 4,
 "nbformat_minor": 0,
 "metadata": {
  "colab": {
   "name": "01_pytorch_workflow_exercises.ipynb",
   "provenance": [],
   "collapsed_sections": [],
   "authorship_tag": "ABX9TyNYzatJtFkfUqqdiR6rYwVL",
   "include_colab_link": true
  },
  "kernelspec": {
   "name": "python3",
   "display_name": "Python 3 (ipykernel)",
   "language": "python"
  },
  "language_info": {
   "name": "python"
  },
  "accelerator": "GPU"
 },
 "cells": [
  {
   "cell_type": "markdown",
   "metadata": {
    "id": "view-in-github",
    "colab_type": "text"
   },
   "source": [
    "<a href=\"https://colab.research.google.com/github/mrdbourke/pytorch-deep-learning/blob/main/extras/exercises/01_pytorch_workflow_exercises.ipynb\" target=\"_parent\"><img src=\"https://colab.research.google.com/assets/colab-badge.svg\" alt=\"Open In Colab\"/></a>"
   ]
  },
  {
   "cell_type": "markdown",
   "source": [
    "# 01. PyTorch Workflow Exercise Template\n",
    "\n",
    "The following is a template for the PyTorch workflow exercises.\n",
    "\n",
    "It's only starter code and it's your job to fill in the blanks.\n",
    "\n",
    "Because of the flexibility of PyTorch, there may be more than one way to answer the question.\n",
    "\n",
    "Don't worry about trying to be *right* just try writing code that suffices the question.\n",
    "\n",
    "You can see one form of [solutions on GitHub](https://github.com/mrdbourke/pytorch-deep-learning/tree/main/extras/solutions) (but try the exercises below yourself first!)."
   ],
   "metadata": {
    "id": "N8LsPXZti9Sw"
   }
  },
  {
   "cell_type": "code",
   "source": [
    "# Import necessary libraries\n",
    "import torch\n",
    "import matplotlib.pyplot as plt\n",
    "import torch.nn as nn"
   ],
   "metadata": {
    "id": "Glu2fM4dkNlx",
    "ExecuteTime": {
     "end_time": "2024-10-11T02:09:33.979811Z",
     "start_time": "2024-10-11T02:09:33.303283Z"
    }
   },
   "outputs": [],
   "execution_count": 1
  },
  {
   "cell_type": "code",
   "source": [
    "# Setup device-agnostic code\n",
    "device = \"cuda\" if torch.cuda.is_available() else \"cpu\""
   ],
   "metadata": {
    "id": "LqKhXY26m31s",
    "ExecuteTime": {
     "end_time": "2024-10-11T02:09:34.069204Z",
     "start_time": "2024-10-11T02:09:34.036248Z"
    }
   },
   "outputs": [],
   "execution_count": 2
  },
  {
   "cell_type": "markdown",
   "source": [
    "## 1. Create a straight line dataset using the linear regression formula (`weight * X + bias`).\n",
    "  * Set `weight=0.3` and `bias=0.9` there should be at least 100 datapoints total. \n",
    "  * Split the data into 80% training, 20% testing.\n",
    "  * Plot the training and testing data so it becomes visual.\n",
    "\n",
    "Your output of the below cell should look something like:\n",
    "```\n",
    "Number of X samples: 100\n",
    "Number of y samples: 100\n",
    "First 10 X & y samples:\n",
    "X: tensor([0.0000, 0.0100, 0.0200, 0.0300, 0.0400, 0.0500, 0.0600, 0.0700, 0.0800,\n",
    "        0.0900])\n",
    "y: tensor([0.9000, 0.9030, 0.9060, 0.9090, 0.9120, 0.9150, 0.9180, 0.9210, 0.9240,\n",
    "        0.9270])\n",
    "```\n",
    "\n",
    "Of course the numbers in `X` and `y` may be different but ideally they're created using the linear regression formula."
   ],
   "metadata": {
    "id": "g7HUhxCxjeBx"
   }
  },
  {
   "cell_type": "code",
   "source": [
    "# Create the data parameters\n",
    "X = torch.arange(0, 1, 0.01)\n",
    "\n",
    "# Make X and y using linear regression feature\n",
    "y = 0.3 * X + 0.9\n",
    "\n",
    "print(f\"Number of X samples: {len(X)}\")\n",
    "print(f\"Number of y samples: {len(y)}\")\n",
    "print(f\"First 10 X & y samples:\\nX: {X[:10]}\\ny: {y[:10]}\")"
   ],
   "metadata": {
    "id": "KbDG5MV7jhvE",
    "ExecuteTime": {
     "end_time": "2024-10-11T02:09:34.115059Z",
     "start_time": "2024-10-11T02:09:34.111947Z"
    }
   },
   "outputs": [
    {
     "name": "stdout",
     "output_type": "stream",
     "text": [
      "Number of X samples: 100\n",
      "Number of y samples: 100\n",
      "First 10 X & y samples:\n",
      "X: tensor([0.0000, 0.0100, 0.0200, 0.0300, 0.0400, 0.0500, 0.0600, 0.0700, 0.0800,\n",
      "        0.0900])\n",
      "y: tensor([0.9000, 0.9030, 0.9060, 0.9090, 0.9120, 0.9150, 0.9180, 0.9210, 0.9240,\n",
      "        0.9270])\n"
     ]
    }
   ],
   "execution_count": 3
  },
  {
   "cell_type": "code",
   "source": [
    "# Split the data into training and testing\n",
    "train_dataset = X[:80]\n",
    "test_dataset = X[80:]"
   ],
   "metadata": {
    "id": "GlwtT1djkmLw",
    "ExecuteTime": {
     "end_time": "2024-10-11T02:09:34.187195Z",
     "start_time": "2024-10-11T02:09:34.185561Z"
    }
   },
   "outputs": [],
   "execution_count": 4
  },
  {
   "cell_type": "code",
   "source": [
    "# Plot the training and testing data \n",
    "plt.scatter(train_dataset, y[:80])\n",
    "plt.scatter(test_dataset, y[80:])"
   ],
   "metadata": {
    "id": "29iQZFNhlYJ-",
    "ExecuteTime": {
     "end_time": "2024-10-11T02:09:34.299674Z",
     "start_time": "2024-10-11T02:09:34.249326Z"
    }
   },
   "outputs": [
    {
     "data": {
      "text/plain": [
       "<matplotlib.collections.PathCollection at 0x7b60a6c43fe0>"
      ]
     },
     "execution_count": 5,
     "metadata": {},
     "output_type": "execute_result"
    },
    {
     "data": {
      "text/plain": [
       "<Figure size 640x480 with 1 Axes>"
      ],
      "image/png": "[encoded data removed]"
     },
     "metadata": {},
     "output_type": "display_data"
    }
   ],
   "execution_count": 5
  },
  {
   "cell_type": "markdown",
   "source": [
    "## 2. Build a PyTorch model by subclassing `nn.Module`. \n",
    "  * Inside should be a randomly initialized `nn.Parameter()` with `requires_grad=True`, one for `weights` and one for `bias`. \n",
    "  * Implement the `forward()` method to compute the linear regression function you used to create the dataset in 1. \n",
    "  * Once you've constructed the model, make an instance of it and check its `state_dict()`.\n",
    "  * **Note:** If you'd like to use `nn.Linear()` instead of `nn.Parameter()` you can."
   ],
   "metadata": {
    "id": "ImZoe3v8jif8"
   }
  },
  {
   "cell_type": "code",
   "source": [
    "# Create PyTorch linear regression model by subclassing nn.Module\n",
    "class LinearRegressionModel(nn.Module):\n",
    "  def __init__(self):\n",
    "    super().__init__()\n",
    "    self.weights = nn.Parameter(torch.randn(1, requires_grad=True))\n",
    "    self.bias = nn.Parameter(torch.randn(1, requires_grad=True))\n",
    "  def forward(self, x) -> torch.Tensor:\n",
    "    return self.weights * x + self.bias"
   ],
   "metadata": {
    "id": "qzd__Y5rjtB8",
    "ExecuteTime": {
     "end_time": "2024-10-11T02:09:34.339244Z",
     "start_time": "2024-10-11T02:09:34.337468Z"
    }
   },
   "outputs": [],
   "execution_count": 6
  },
  {
   "cell_type": "code",
   "source": [
    "# Instantiate the model and put it to the target device\n"
   ],
   "metadata": {
    "id": "5LdcDnmOmyQ2",
    "ExecuteTime": {
     "end_time": "2024-10-11T02:09:34.398421Z",
     "start_time": "2024-10-11T02:09:34.396717Z"
    }
   },
   "outputs": [],
   "execution_count": 7
  },
  {
   "cell_type": "markdown",
   "source": [
    "## 3. Create a loss function and optimizer using `nn.L1Loss()` and `torch.optim.SGD(params, lr)` respectively. \n",
    "  * Set the learning rate of the optimizer to be 0.01 and the parameters to optimize should be the model parameters from the model you created in 2.\n",
    "  * Write a training loop to perform the appropriate training steps for 300 epochs.\n",
    "  * The training loop should test the model on the test dataset every 20 epochs."
   ],
   "metadata": {
    "id": "G6nYOrJhjtfu"
   }
  },
  {
   "cell_type": "code",
   "source": [
    "# Create the loss function and optimizer\n",
    "model = LinearRegressionModel()\n",
    "\n",
    "l1_loss = nn.L1Loss()\n",
    "\n",
    "optimizer = torch.optim.SGD(params=model.parameters(), lr=0.001)"
   ],
   "metadata": {
    "id": "ltvoZ-FWjv1j",
    "ExecuteTime": {
     "end_time": "2024-10-11T02:09:34.688066Z",
     "start_time": "2024-10-11T02:09:34.458062Z"
    }
   },
   "outputs": [],
   "execution_count": 8
  },
  {
   "metadata": {
    "id": "xpE83NvNnkdV",
    "ExecuteTime": {
     "end_time": "2024-10-11T02:09:36.250467Z",
     "start_time": "2024-10-11T02:09:34.711765Z"
    }
   },
   "cell_type": "code",
   "source": [
    "# Training loop\n",
    "\n",
    "\n",
    "# Train model for 300 epochs\n",
    "epochs = 300\n",
    "\n",
    "# Send data to target device\n",
    "\n",
    "\n",
    "for epoch in range(epochs):\n",
    "  ### Training\n",
    "  for index, x in enumerate(train_dataset):\n",
    "    # Put model in train mode\n",
    "    model.train()\n",
    "  \n",
    "    # 1. Forward pass\n",
    "    y_pred = model(x)\n",
    "  \n",
    "    # 2. Calculate loss\n",
    "    loss = l1_loss(y_pred, y[index])\n",
    "  \n",
    "    # 3. Zero gradients\n",
    "    optimizer.zero_grad()\n",
    "  \n",
    "    # 4. Backpropagation\n",
    "    loss.backward()\n",
    "  \n",
    "    # 5. Step the optimizer\n",
    "    optimizer.step()\n",
    "  \n",
    "    ### Perform testing every 20 epochs\n",
    "    if epoch % 20 == 0:\n",
    "      # Put model in evaluation mode and setup inference context \n",
    "      model.eval()\n",
    "      # 1. Forward pass\n",
    "      with torch.inference_mode():\n",
    "        test_pred = model(test_dataset)\n",
    "      # 2. Calculate test loss\n",
    "        test_loss = l1_loss(test_pred, y[80:])\n",
    "      # Print out what's happening\n",
    "  print(f\"Epoch: {epoch} | Train loss: {loss:.3f} | Test loss: {test_loss:.3f} | Weights: {model.weights.item():.3f} | Bias: {model.bias.item():.3f}\")"
   ],
   "outputs": [
    {
     "name": "stderr",
     "output_type": "stream",
     "text": [
      "/home/overman/miniconda3/envs/llm/lib/python3.12/site-packages/torch/nn/modules/loss.py:101: UserWarning: Using a target size (torch.Size([])) that is different to the input size (torch.Size([1])). This will likely lead to incorrect results due to broadcasting. Please ensure they have the same size.\n",
      "  return F.l1_loss(input, target, reduction=self.reduction)\n"
     ]
    },
    {
     "name": "stdout",
     "output_type": "stream",
     "text": [
      "Epoch: 0 | Train loss: 0.397 | Test loss: 0.272 | Weights: 1.476 | Bias: -0.425\n",
      "Epoch: 1 | Train loss: 0.292 | Test loss: 0.272 | Weights: 1.508 | Bias: -0.345\n",
      "Epoch: 2 | Train loss: 0.187 | Test loss: 0.272 | Weights: 1.540 | Bias: -0.265\n",
      "Epoch: 3 | Train loss: 0.082 | Test loss: 0.272 | Weights: 1.571 | Bias: -0.185\n",
      "Epoch: 4 | Train loss: 0.020 | Test loss: 0.272 | Weights: 1.600 | Bias: -0.109\n",
      "Epoch: 5 | Train loss: 0.096 | Test loss: 0.272 | Weights: 1.618 | Bias: -0.047\n",
      "Epoch: 6 | Train loss: 0.157 | Test loss: 0.272 | Weights: 1.629 | Bias: 0.005\n",
      "Epoch: 7 | Train loss: 0.206 | Test loss: 0.272 | Weights: 1.635 | Bias: 0.049\n",
      "Epoch: 8 | Train loss: 0.246 | Test loss: 0.272 | Weights: 1.638 | Bias: 0.087\n",
      "Epoch: 9 | Train loss: 0.277 | Test loss: 0.272 | Weights: 1.637 | Bias: 0.119\n",
      "Epoch: 10 | Train loss: 0.303 | Test loss: 0.272 | Weights: 1.634 | Bias: 0.147\n",
      "Epoch: 11 | Train loss: 0.326 | Test loss: 0.272 | Weights: 1.630 | Bias: 0.173\n",
      "Epoch: 12 | Train loss: 0.343 | Test loss: 0.272 | Weights: 1.624 | Bias: 0.195\n",
      "Epoch: 13 | Train loss: 0.357 | Test loss: 0.272 | Weights: 1.617 | Bias: 0.215\n",
      "Epoch: 14 | Train loss: 0.366 | Test loss: 0.272 | Weights: 1.608 | Bias: 0.231\n",
      "Epoch: 15 | Train loss: 0.375 | Test loss: 0.272 | Weights: 1.599 | Bias: 0.247\n",
      "Epoch: 16 | Train loss: 0.381 | Test loss: 0.272 | Weights: 1.589 | Bias: 0.261\n",
      "Epoch: 17 | Train loss: 0.384 | Test loss: 0.272 | Weights: 1.578 | Bias: 0.273\n",
      "Epoch: 18 | Train loss: 0.388 | Test loss: 0.272 | Weights: 1.567 | Bias: 0.285\n",
      "Epoch: 19 | Train loss: 0.388 | Test loss: 0.272 | Weights: 1.555 | Bias: 0.295\n",
      "Epoch: 20 | Train loss: 0.389 | Test loss: 0.518 | Weights: 1.543 | Bias: 0.305\n",
      "Epoch: 21 | Train loss: 0.387 | Test loss: 0.518 | Weights: 1.531 | Bias: 0.313\n",
      "Epoch: 22 | Train loss: 0.385 | Test loss: 0.518 | Weights: 1.518 | Bias: 0.321\n",
      "Epoch: 23 | Train loss: 0.383 | Test loss: 0.518 | Weights: 1.505 | Bias: 0.329\n",
      "Epoch: 24 | Train loss: 0.381 | Test loss: 0.518 | Weights: 1.493 | Bias: 0.337\n",
      "Epoch: 25 | Train loss: 0.379 | Test loss: 0.518 | Weights: 1.480 | Bias: 0.345\n",
      "Epoch: 26 | Train loss: 0.377 | Test loss: 0.518 | Weights: 1.467 | Bias: 0.353\n",
      "Epoch: 27 | Train loss: 0.372 | Test loss: 0.518 | Weights: 1.454 | Bias: 0.359\n",
      "Epoch: 28 | Train loss: 0.368 | Test loss: 0.518 | Weights: 1.440 | Bias: 0.365\n",
      "Epoch: 29 | Train loss: 0.363 | Test loss: 0.518 | Weights: 1.427 | Bias: 0.371\n",
      "Epoch: 30 | Train loss: 0.358 | Test loss: 0.518 | Weights: 1.413 | Bias: 0.377\n",
      "Epoch: 31 | Train loss: 0.354 | Test loss: 0.518 | Weights: 1.400 | Bias: 0.383\n",
      "Epoch: 32 | Train loss: 0.349 | Test loss: 0.518 | Weights: 1.386 | Bias: 0.389\n",
      "Epoch: 33 | Train loss: 0.344 | Test loss: 0.518 | Weights: 1.373 | Bias: 0.395\n",
      "Epoch: 34 | Train loss: 0.339 | Test loss: 0.518 | Weights: 1.359 | Bias: 0.401\n",
      "Epoch: 35 | Train loss: 0.335 | Test loss: 0.518 | Weights: 1.346 | Bias: 0.407\n",
      "Epoch: 36 | Train loss: 0.330 | Test loss: 0.518 | Weights: 1.332 | Bias: 0.413\n",
      "Epoch: 37 | Train loss: 0.325 | Test loss: 0.518 | Weights: 1.318 | Bias: 0.419\n",
      "Epoch: 38 | Train loss: 0.321 | Test loss: 0.518 | Weights: 1.305 | Bias: 0.425\n",
      "Epoch: 39 | Train loss: 0.316 | Test loss: 0.518 | Weights: 1.291 | Bias: 0.431\n",
      "Epoch: 40 | Train loss: 0.311 | Test loss: 0.412 | Weights: 1.278 | Bias: 0.437\n",
      "Epoch: 41 | Train loss: 0.307 | Test loss: 0.412 | Weights: 1.264 | Bias: 0.443\n",
      "Epoch: 42 | Train loss: 0.302 | Test loss: 0.412 | Weights: 1.251 | Bias: 0.449\n",
      "Epoch: 43 | Train loss: 0.297 | Test loss: 0.412 | Weights: 1.237 | Bias: 0.455\n",
      "Epoch: 44 | Train loss: 0.292 | Test loss: 0.412 | Weights: 1.224 | Bias: 0.461\n",
      "Epoch: 45 | Train loss: 0.288 | Test loss: 0.412 | Weights: 1.210 | Bias: 0.467\n",
      "Epoch: 46 | Train loss: 0.283 | Test loss: 0.412 | Weights: 1.197 | Bias: 0.473\n",
      "Epoch: 47 | Train loss: 0.278 | Test loss: 0.412 | Weights: 1.183 | Bias: 0.479\n",
      "Epoch: 48 | Train loss: 0.274 | Test loss: 0.412 | Weights: 1.170 | Bias: 0.485\n",
      "Epoch: 49 | Train loss: 0.269 | Test loss: 0.412 | Weights: 1.156 | Bias: 0.491\n",
      "Epoch: 50 | Train loss: 0.264 | Test loss: 0.412 | Weights: 1.142 | Bias: 0.497\n",
      "Epoch: 51 | Train loss: 0.260 | Test loss: 0.412 | Weights: 1.129 | Bias: 0.503\n",
      "Epoch: 52 | Train loss: 0.255 | Test loss: 0.412 | Weights: 1.115 | Bias: 0.509\n",
      "Epoch: 53 | Train loss: 0.250 | Test loss: 0.412 | Weights: 1.102 | Bias: 0.515\n",
      "Epoch: 54 | Train loss: 0.245 | Test loss: 0.412 | Weights: 1.088 | Bias: 0.521\n",
      "Epoch: 55 | Train loss: 0.241 | Test loss: 0.412 | Weights: 1.075 | Bias: 0.527\n",
      "Epoch: 56 | Train loss: 0.236 | Test loss: 0.412 | Weights: 1.061 | Bias: 0.533\n",
      "Epoch: 57 | Train loss: 0.231 | Test loss: 0.412 | Weights: 1.048 | Bias: 0.539\n",
      "Epoch: 58 | Train loss: 0.227 | Test loss: 0.412 | Weights: 1.034 | Bias: 0.545\n",
      "Epoch: 59 | Train loss: 0.222 | Test loss: 0.412 | Weights: 1.021 | Bias: 0.551\n",
      "Epoch: 60 | Train loss: 0.217 | Test loss: 0.290 | Weights: 1.007 | Bias: 0.557\n",
      "Epoch: 61 | Train loss: 0.213 | Test loss: 0.290 | Weights: 0.994 | Bias: 0.563\n",
      "Epoch: 62 | Train loss: 0.205 | Test loss: 0.290 | Weights: 0.979 | Bias: 0.567\n",
      "Epoch: 63 | Train loss: 0.201 | Test loss: 0.290 | Weights: 0.966 | Bias: 0.573\n",
      "Epoch: 64 | Train loss: 0.196 | Test loss: 0.290 | Weights: 0.952 | Bias: 0.579\n",
      "Epoch: 65 | Train loss: 0.191 | Test loss: 0.290 | Weights: 0.939 | Bias: 0.585\n",
      "Epoch: 66 | Train loss: 0.186 | Test loss: 0.290 | Weights: 0.925 | Bias: 0.591\n",
      "Epoch: 67 | Train loss: 0.182 | Test loss: 0.290 | Weights: 0.911 | Bias: 0.597\n",
      "Epoch: 68 | Train loss: 0.177 | Test loss: 0.290 | Weights: 0.898 | Bias: 0.603\n",
      "Epoch: 69 | Train loss: 0.172 | Test loss: 0.290 | Weights: 0.884 | Bias: 0.609\n",
      "Epoch: 70 | Train loss: 0.165 | Test loss: 0.290 | Weights: 0.870 | Bias: 0.613\n",
      "Epoch: 71 | Train loss: 0.160 | Test loss: 0.290 | Weights: 0.856 | Bias: 0.619\n",
      "Epoch: 72 | Train loss: 0.156 | Test loss: 0.290 | Weights: 0.843 | Bias: 0.625\n",
      "Epoch: 73 | Train loss: 0.151 | Test loss: 0.290 | Weights: 0.829 | Bias: 0.631\n",
      "Epoch: 74 | Train loss: 0.146 | Test loss: 0.290 | Weights: 0.816 | Bias: 0.637\n",
      "Epoch: 75 | Train loss: 0.142 | Test loss: 0.290 | Weights: 0.802 | Bias: 0.643\n",
      "Epoch: 76 | Train loss: 0.137 | Test loss: 0.290 | Weights: 0.789 | Bias: 0.649\n",
      "Epoch: 77 | Train loss: 0.132 | Test loss: 0.290 | Weights: 0.775 | Bias: 0.655\n",
      "Epoch: 78 | Train loss: 0.125 | Test loss: 0.290 | Weights: 0.761 | Bias: 0.659\n",
      "Epoch: 79 | Train loss: 0.120 | Test loss: 0.290 | Weights: 0.747 | Bias: 0.665\n",
      "Epoch: 80 | Train loss: 0.115 | Test loss: 0.159 | Weights: 0.734 | Bias: 0.671\n",
      "Epoch: 81 | Train loss: 0.111 | Test loss: 0.159 | Weights: 0.720 | Bias: 0.677\n",
      "Epoch: 82 | Train loss: 0.106 | Test loss: 0.159 | Weights: 0.707 | Bias: 0.683\n",
      "Epoch: 83 | Train loss: 0.101 | Test loss: 0.159 | Weights: 0.693 | Bias: 0.689\n",
      "Epoch: 84 | Train loss: 0.097 | Test loss: 0.159 | Weights: 0.680 | Bias: 0.695\n",
      "Epoch: 85 | Train loss: 0.089 | Test loss: 0.159 | Weights: 0.665 | Bias: 0.699\n",
      "Epoch: 86 | Train loss: 0.085 | Test loss: 0.159 | Weights: 0.652 | Bias: 0.705\n",
      "Epoch: 87 | Train loss: 0.080 | Test loss: 0.159 | Weights: 0.638 | Bias: 0.711\n",
      "Epoch: 88 | Train loss: 0.075 | Test loss: 0.159 | Weights: 0.625 | Bias: 0.717\n",
      "Epoch: 89 | Train loss: 0.070 | Test loss: 0.159 | Weights: 0.611 | Bias: 0.723\n",
      "Epoch: 90 | Train loss: 0.066 | Test loss: 0.159 | Weights: 0.597 | Bias: 0.729\n",
      "Epoch: 91 | Train loss: 0.061 | Test loss: 0.159 | Weights: 0.584 | Bias: 0.735\n",
      "Epoch: 92 | Train loss: 0.056 | Test loss: 0.159 | Weights: 0.570 | Bias: 0.741\n",
      "Epoch: 93 | Train loss: 0.049 | Test loss: 0.159 | Weights: 0.556 | Bias: 0.745\n",
      "Epoch: 94 | Train loss: 0.044 | Test loss: 0.159 | Weights: 0.542 | Bias: 0.751\n",
      "Epoch: 95 | Train loss: 0.040 | Test loss: 0.159 | Weights: 0.529 | Bias: 0.757\n",
      "Epoch: 96 | Train loss: 0.035 | Test loss: 0.159 | Weights: 0.515 | Bias: 0.763\n",
      "Epoch: 97 | Train loss: 0.030 | Test loss: 0.159 | Weights: 0.502 | Bias: 0.769\n",
      "Epoch: 98 | Train loss: 0.026 | Test loss: 0.159 | Weights: 0.488 | Bias: 0.775\n",
      "Epoch: 99 | Train loss: 0.021 | Test loss: 0.159 | Weights: 0.475 | Bias: 0.781\n",
      "Epoch: 100 | Train loss: 0.013 | Test loss: 0.029 | Weights: 0.460 | Bias: 0.785\n",
      "Epoch: 101 | Train loss: 0.009 | Test loss: 0.029 | Weights: 0.447 | Bias: 0.791\n",
      "Epoch: 102 | Train loss: 0.004 | Test loss: 0.029 | Weights: 0.433 | Bias: 0.797\n",
      "Epoch: 103 | Train loss: 0.003 | Test loss: 0.029 | Weights: 0.421 | Bias: 0.805\n",
      "Epoch: 104 | Train loss: 0.002 | Test loss: 0.029 | Weights: 0.410 | Bias: 0.813\n",
      "Epoch: 105 | Train loss: 0.001 | Test loss: 0.029 | Weights: 0.399 | Bias: 0.821\n",
      "Epoch: 106 | Train loss: 0.001 | Test loss: 0.029 | Weights: 0.389 | Bias: 0.829\n",
      "Epoch: 107 | Train loss: 0.001 | Test loss: 0.029 | Weights: 0.379 | Bias: 0.837\n",
      "Epoch: 108 | Train loss: 0.001 | Test loss: 0.029 | Weights: 0.370 | Bias: 0.845\n",
      "Epoch: 109 | Train loss: 0.001 | Test loss: 0.029 | Weights: 0.362 | Bias: 0.851\n",
      "Epoch: 110 | Train loss: 0.001 | Test loss: 0.029 | Weights: 0.353 | Bias: 0.857\n",
      "Epoch: 111 | Train loss: 0.001 | Test loss: 0.029 | Weights: 0.346 | Bias: 0.863\n",
      "Epoch: 112 | Train loss: 0.001 | Test loss: 0.029 | Weights: 0.340 | Bias: 0.869\n",
      "Epoch: 113 | Train loss: 0.001 | Test loss: 0.029 | Weights: 0.334 | Bias: 0.873\n",
      "Epoch: 114 | Train loss: 0.001 | Test loss: 0.029 | Weights: 0.328 | Bias: 0.877\n",
      "Epoch: 115 | Train loss: 0.001 | Test loss: 0.029 | Weights: 0.324 | Bias: 0.882\n",
      "Epoch: 116 | Train loss: 0.001 | Test loss: 0.029 | Weights: 0.319 | Bias: 0.884\n",
      "Epoch: 117 | Train loss: 0.001 | Test loss: 0.029 | Weights: 0.316 | Bias: 0.888\n",
      "Epoch: 118 | Train loss: 0.001 | Test loss: 0.029 | Weights: 0.314 | Bias: 0.890\n",
      "Epoch: 119 | Train loss: 0.000 | Test loss: 0.029 | Weights: 0.312 | Bias: 0.892\n",
      "Epoch: 120 | Train loss: 0.001 | Test loss: 0.001 | Weights: 0.309 | Bias: 0.892\n",
      "Epoch: 121 | Train loss: 0.001 | Test loss: 0.001 | Weights: 0.307 | Bias: 0.894\n",
      "Epoch: 122 | Train loss: 0.000 | Test loss: 0.001 | Weights: 0.306 | Bias: 0.896\n",
      "Epoch: 123 | Train loss: 0.002 | Test loss: 0.001 | Weights: 0.305 | Bias: 0.896\n",
      "Epoch: 124 | Train loss: 0.000 | Test loss: 0.001 | Weights: 0.303 | Bias: 0.896\n",
      "Epoch: 125 | Train loss: 0.001 | Test loss: 0.001 | Weights: 0.303 | Bias: 0.898\n",
      "Epoch: 126 | Train loss: 0.002 | Test loss: 0.001 | Weights: 0.302 | Bias: 0.898\n",
      "Epoch: 127 | Train loss: 0.001 | Test loss: 0.001 | Weights: 0.301 | Bias: 0.898\n",
      "Epoch: 128 | Train loss: 0.000 | Test loss: 0.001 | Weights: 0.302 | Bias: 0.900\n",
      "Epoch: 129 | Train loss: 0.000 | Test loss: 0.001 | Weights: 0.301 | Bias: 0.898\n",
      "Epoch: 130 | Train loss: 0.001 | Test loss: 0.001 | Weights: 0.301 | Bias: 0.900\n",
      "Epoch: 131 | Train loss: 0.000 | Test loss: 0.001 | Weights: 0.302 | Bias: 0.900\n",
      "Epoch: 132 | Train loss: 0.000 | Test loss: 0.001 | Weights: 0.301 | Bias: 0.898\n",
      "Epoch: 133 | Train loss: 0.001 | Test loss: 0.001 | Weights: 0.301 | Bias: 0.900\n",
      "Epoch: 134 | Train loss: 0.000 | Test loss: 0.001 | Weights: 0.301 | Bias: 0.900\n",
      "Epoch: 135 | Train loss: 0.000 | Test loss: 0.001 | Weights: 0.302 | Bias: 0.900\n",
      "Epoch: 136 | Train loss: 0.000 | Test loss: 0.001 | Weights: 0.301 | Bias: 0.898\n",
      "Epoch: 137 | Train loss: 0.001 | Test loss: 0.001 | Weights: 0.301 | Bias: 0.900\n",
      "Epoch: 138 | Train loss: 0.000 | Test loss: 0.001 | Weights: 0.302 | Bias: 0.900\n",
      "Epoch: 139 | Train loss: 0.000 | Test loss: 0.001 | Weights: 0.300 | Bias: 0.898\n",
      "Epoch: 140 | Train loss: 0.001 | Test loss: 0.001 | Weights: 0.301 | Bias: 0.900\n",
      "Epoch: 141 | Train loss: 0.001 | Test loss: 0.001 | Weights: 0.301 | Bias: 0.900\n",
      "Epoch: 142 | Train loss: 0.000 | Test loss: 0.001 | Weights: 0.302 | Bias: 0.900\n",
      "Epoch: 143 | Train loss: 0.000 | Test loss: 0.001 | Weights: 0.300 | Bias: 0.898\n",
      "Epoch: 144 | Train loss: 0.001 | Test loss: 0.001 | Weights: 0.301 | Bias: 0.900\n",
      "Epoch: 145 | Train loss: 0.001 | Test loss: 0.001 | Weights: 0.301 | Bias: 0.900\n",
      "Epoch: 146 | Train loss: 0.000 | Test loss: 0.001 | Weights: 0.302 | Bias: 0.900\n",
      "Epoch: 147 | Train loss: 0.000 | Test loss: 0.001 | Weights: 0.300 | Bias: 0.898\n",
      "Epoch: 148 | Train loss: 0.001 | Test loss: 0.001 | Weights: 0.301 | Bias: 0.900\n",
      "Epoch: 149 | Train loss: 0.001 | Test loss: 0.001 | Weights: 0.301 | Bias: 0.900\n",
      "Epoch: 150 | Train loss: 0.000 | Test loss: 0.001 | Weights: 0.302 | Bias: 0.900\n",
      "Epoch: 151 | Train loss: 0.000 | Test loss: 0.001 | Weights: 0.301 | Bias: 0.898\n",
      "Epoch: 152 | Train loss: 0.001 | Test loss: 0.001 | Weights: 0.301 | Bias: 0.900\n",
      "Epoch: 153 | Train loss: 0.000 | Test loss: 0.001 | Weights: 0.301 | Bias: 0.900\n",
      "Epoch: 154 | Train loss: 0.000 | Test loss: 0.001 | Weights: 0.302 | Bias: 0.900\n",
      "Epoch: 155 | Train loss: 0.000 | Test loss: 0.001 | Weights: 0.301 | Bias: 0.898\n",
      "Epoch: 156 | Train loss: 0.001 | Test loss: 0.001 | Weights: 0.301 | Bias: 0.900\n",
      "Epoch: 157 | Train loss: 0.000 | Test loss: 0.001 | Weights: 0.302 | Bias: 0.900\n",
      "Epoch: 158 | Train loss: 0.000 | Test loss: 0.001 | Weights: 0.301 | Bias: 0.898\n",
      "Epoch: 159 | Train loss: 0.001 | Test loss: 0.001 | Weights: 0.301 | Bias: 0.900\n",
      "Epoch: 160 | Train loss: 0.000 | Test loss: 0.001 | Weights: 0.301 | Bias: 0.900\n",
      "Epoch: 161 | Train loss: 0.000 | Test loss: 0.001 | Weights: 0.302 | Bias: 0.900\n",
      "Epoch: 162 | Train loss: 0.000 | Test loss: 0.001 | Weights: 0.301 | Bias: 0.898\n",
      "Epoch: 163 | Train loss: 0.001 | Test loss: 0.001 | Weights: 0.301 | Bias: 0.900\n",
      "Epoch: 164 | Train loss: 0.000 | Test loss: 0.001 | Weights: 0.302 | Bias: 0.900\n",
      "Epoch: 165 | Train loss: 0.000 | Test loss: 0.001 | Weights: 0.300 | Bias: 0.898\n",
      "Epoch: 166 | Train loss: 0.001 | Test loss: 0.001 | Weights: 0.301 | Bias: 0.900\n",
      "Epoch: 167 | Train loss: 0.001 | Test loss: 0.001 | Weights: 0.301 | Bias: 0.900\n",
      "Epoch: 168 | Train loss: 0.000 | Test loss: 0.001 | Weights: 0.302 | Bias: 0.900\n",
      "Epoch: 169 | Train loss: 0.000 | Test loss: 0.001 | Weights: 0.300 | Bias: 0.898\n",
      "Epoch: 170 | Train loss: 0.001 | Test loss: 0.001 | Weights: 0.301 | Bias: 0.900\n",
      "Epoch: 171 | Train loss: 0.001 | Test loss: 0.001 | Weights: 0.301 | Bias: 0.900\n",
      "Epoch: 172 | Train loss: 0.000 | Test loss: 0.001 | Weights: 0.302 | Bias: 0.900\n",
      "Epoch: 173 | Train loss: 0.000 | Test loss: 0.001 | Weights: 0.300 | Bias: 0.898\n",
      "Epoch: 174 | Train loss: 0.001 | Test loss: 0.001 | Weights: 0.301 | Bias: 0.900\n",
      "Epoch: 175 | Train loss: 0.001 | Test loss: 0.001 | Weights: 0.301 | Bias: 0.900\n",
      "Epoch: 176 | Train loss: 0.000 | Test loss: 0.001 | Weights: 0.302 | Bias: 0.900\n",
      "Epoch: 177 | Train loss: 0.000 | Test loss: 0.001 | Weights: 0.301 | Bias: 0.898\n",
      "Epoch: 178 | Train loss: 0.001 | Test loss: 0.001 | Weights: 0.301 | Bias: 0.900\n",
      "Epoch: 179 | Train loss: 0.000 | Test loss: 0.001 | Weights: 0.301 | Bias: 0.900\n",
      "Epoch: 180 | Train loss: 0.000 | Test loss: 0.002 | Weights: 0.302 | Bias: 0.900\n",
      "Epoch: 181 | Train loss: 0.000 | Test loss: 0.002 | Weights: 0.301 | Bias: 0.898\n",
      "Epoch: 182 | Train loss: 0.001 | Test loss: 0.002 | Weights: 0.301 | Bias: 0.900\n",
      "Epoch: 183 | Train loss: 0.000 | Test loss: 0.002 | Weights: 0.302 | Bias: 0.900\n",
      "Epoch: 184 | Train loss: 0.000 | Test loss: 0.002 | Weights: 0.301 | Bias: 0.898\n",
      "Epoch: 185 | Train loss: 0.001 | Test loss: 0.002 | Weights: 0.301 | Bias: 0.900\n",
      "Epoch: 186 | Train loss: 0.000 | Test loss: 0.002 | Weights: 0.301 | Bias: 0.900\n",
      "Epoch: 187 | Train loss: 0.000 | Test loss: 0.002 | Weights: 0.302 | Bias: 0.900\n",
      "Epoch: 188 | Train loss: 0.000 | Test loss: 0.002 | Weights: 0.301 | Bias: 0.898\n",
      "Epoch: 189 | Train loss: 0.001 | Test loss: 0.002 | Weights: 0.301 | Bias: 0.900\n",
      "Epoch: 190 | Train loss: 0.000 | Test loss: 0.002 | Weights: 0.302 | Bias: 0.900\n",
      "Epoch: 191 | Train loss: 0.000 | Test loss: 0.002 | Weights: 0.300 | Bias: 0.898\n",
      "Epoch: 192 | Train loss: 0.001 | Test loss: 0.002 | Weights: 0.301 | Bias: 0.900\n",
      "Epoch: 193 | Train loss: 0.001 | Test loss: 0.002 | Weights: 0.301 | Bias: 0.900\n",
      "Epoch: 194 | Train loss: 0.000 | Test loss: 0.002 | Weights: 0.302 | Bias: 0.900\n",
      "Epoch: 195 | Train loss: 0.000 | Test loss: 0.002 | Weights: 0.300 | Bias: 0.898\n",
      "Epoch: 196 | Train loss: 0.001 | Test loss: 0.002 | Weights: 0.301 | Bias: 0.900\n",
      "Epoch: 197 | Train loss: 0.001 | Test loss: 0.002 | Weights: 0.301 | Bias: 0.900\n",
      "Epoch: 198 | Train loss: 0.000 | Test loss: 0.002 | Weights: 0.302 | Bias: 0.900\n",
      "Epoch: 199 | Train loss: 0.000 | Test loss: 0.002 | Weights: 0.301 | Bias: 0.898\n",
      "Epoch: 200 | Train loss: 0.001 | Test loss: 0.001 | Weights: 0.301 | Bias: 0.900\n",
      "Epoch: 201 | Train loss: 0.000 | Test loss: 0.001 | Weights: 0.301 | Bias: 0.900\n",
      "Epoch: 202 | Train loss: 0.000 | Test loss: 0.001 | Weights: 0.302 | Bias: 0.900\n",
      "Epoch: 203 | Train loss: 0.000 | Test loss: 0.001 | Weights: 0.301 | Bias: 0.898\n",
      "Epoch: 204 | Train loss: 0.001 | Test loss: 0.001 | Weights: 0.301 | Bias: 0.900\n",
      "Epoch: 205 | Train loss: 0.000 | Test loss: 0.001 | Weights: 0.302 | Bias: 0.900\n",
      "Epoch: 206 | Train loss: 0.000 | Test loss: 0.001 | Weights: 0.300 | Bias: 0.898\n",
      "Epoch: 207 | Train loss: 0.001 | Test loss: 0.001 | Weights: 0.301 | Bias: 0.900\n",
      "Epoch: 208 | Train loss: 0.001 | Test loss: 0.001 | Weights: 0.301 | Bias: 0.900\n",
      "Epoch: 209 | Train loss: 0.000 | Test loss: 0.001 | Weights: 0.302 | Bias: 0.900\n",
      "Epoch: 210 | Train loss: 0.000 | Test loss: 0.001 | Weights: 0.300 | Bias: 0.898\n",
      "Epoch: 211 | Train loss: 0.001 | Test loss: 0.001 | Weights: 0.301 | Bias: 0.900\n",
      "Epoch: 212 | Train loss: 0.001 | Test loss: 0.001 | Weights: 0.301 | Bias: 0.900\n",
      "Epoch: 213 | Train loss: 0.000 | Test loss: 0.001 | Weights: 0.302 | Bias: 0.900\n",
      "Epoch: 214 | Train loss: 0.000 | Test loss: 0.001 | Weights: 0.301 | Bias: 0.898\n",
      "Epoch: 215 | Train loss: 0.001 | Test loss: 0.001 | Weights: 0.301 | Bias: 0.900\n",
      "Epoch: 216 | Train loss: 0.000 | Test loss: 0.001 | Weights: 0.301 | Bias: 0.900\n",
      "Epoch: 217 | Train loss: 0.000 | Test loss: 0.001 | Weights: 0.302 | Bias: 0.900\n",
      "Epoch: 218 | Train loss: 0.000 | Test loss: 0.001 | Weights: 0.301 | Bias: 0.898\n",
      "Epoch: 219 | Train loss: 0.001 | Test loss: 0.001 | Weights: 0.301 | Bias: 0.900\n",
      "Epoch: 220 | Train loss: 0.000 | Test loss: 0.001 | Weights: 0.302 | Bias: 0.900\n",
      "Epoch: 221 | Train loss: 0.000 | Test loss: 0.001 | Weights: 0.300 | Bias: 0.898\n",
      "Epoch: 222 | Train loss: 0.001 | Test loss: 0.001 | Weights: 0.301 | Bias: 0.900\n",
      "Epoch: 223 | Train loss: 0.001 | Test loss: 0.001 | Weights: 0.301 | Bias: 0.900\n",
      "Epoch: 224 | Train loss: 0.000 | Test loss: 0.001 | Weights: 0.302 | Bias: 0.900\n",
      "Epoch: 225 | Train loss: 0.000 | Test loss: 0.001 | Weights: 0.300 | Bias: 0.898\n",
      "Epoch: 226 | Train loss: 0.001 | Test loss: 0.001 | Weights: 0.301 | Bias: 0.900\n",
      "Epoch: 227 | Train loss: 0.001 | Test loss: 0.001 | Weights: 0.301 | Bias: 0.900\n",
      "Epoch: 228 | Train loss: 0.000 | Test loss: 0.001 | Weights: 0.302 | Bias: 0.900\n",
      "Epoch: 229 | Train loss: 0.000 | Test loss: 0.001 | Weights: 0.301 | Bias: 0.898\n",
      "Epoch: 230 | Train loss: 0.001 | Test loss: 0.001 | Weights: 0.301 | Bias: 0.900\n",
      "Epoch: 231 | Train loss: 0.000 | Test loss: 0.001 | Weights: 0.301 | Bias: 0.900\n",
      "Epoch: 232 | Train loss: 0.000 | Test loss: 0.001 | Weights: 0.302 | Bias: 0.900\n",
      "Epoch: 233 | Train loss: 0.000 | Test loss: 0.001 | Weights: 0.301 | Bias: 0.898\n",
      "Epoch: 234 | Train loss: 0.001 | Test loss: 0.001 | Weights: 0.301 | Bias: 0.900\n",
      "Epoch: 235 | Train loss: 0.000 | Test loss: 0.001 | Weights: 0.302 | Bias: 0.900\n",
      "Epoch: 236 | Train loss: 0.000 | Test loss: 0.001 | Weights: 0.300 | Bias: 0.898\n",
      "Epoch: 237 | Train loss: 0.001 | Test loss: 0.001 | Weights: 0.301 | Bias: 0.900\n",
      "Epoch: 238 | Train loss: 0.001 | Test loss: 0.001 | Weights: 0.301 | Bias: 0.900\n",
      "Epoch: 239 | Train loss: 0.000 | Test loss: 0.001 | Weights: 0.302 | Bias: 0.900\n",
      "Epoch: 240 | Train loss: 0.000 | Test loss: 0.001 | Weights: 0.300 | Bias: 0.898\n",
      "Epoch: 241 | Train loss: 0.001 | Test loss: 0.001 | Weights: 0.301 | Bias: 0.900\n",
      "Epoch: 242 | Train loss: 0.001 | Test loss: 0.001 | Weights: 0.301 | Bias: 0.900\n",
      "Epoch: 243 | Train loss: 0.000 | Test loss: 0.001 | Weights: 0.302 | Bias: 0.900\n",
      "Epoch: 244 | Train loss: 0.000 | Test loss: 0.001 | Weights: 0.301 | Bias: 0.898\n",
      "Epoch: 245 | Train loss: 0.001 | Test loss: 0.001 | Weights: 0.301 | Bias: 0.900\n",
      "Epoch: 246 | Train loss: 0.000 | Test loss: 0.001 | Weights: 0.301 | Bias: 0.900\n",
      "Epoch: 247 | Train loss: 0.000 | Test loss: 0.001 | Weights: 0.302 | Bias: 0.900\n",
      "Epoch: 248 | Train loss: 0.000 | Test loss: 0.001 | Weights: 0.301 | Bias: 0.898\n",
      "Epoch: 249 | Train loss: 0.001 | Test loss: 0.001 | Weights: 0.301 | Bias: 0.900\n",
      "Epoch: 250 | Train loss: 0.000 | Test loss: 0.001 | Weights: 0.302 | Bias: 0.900\n",
      "Epoch: 251 | Train loss: 0.000 | Test loss: 0.001 | Weights: 0.300 | Bias: 0.898\n",
      "Epoch: 252 | Train loss: 0.001 | Test loss: 0.001 | Weights: 0.301 | Bias: 0.900\n",
      "Epoch: 253 | Train loss: 0.001 | Test loss: 0.001 | Weights: 0.301 | Bias: 0.900\n",
      "Epoch: 254 | Train loss: 0.000 | Test loss: 0.001 | Weights: 0.302 | Bias: 0.900\n",
      "Epoch: 255 | Train loss: 0.000 | Test loss: 0.001 | Weights: 0.301 | Bias: 0.898\n",
      "Epoch: 256 | Train loss: 0.001 | Test loss: 0.001 | Weights: 0.301 | Bias: 0.900\n",
      "Epoch: 257 | Train loss: 0.000 | Test loss: 0.001 | Weights: 0.301 | Bias: 0.900\n",
      "Epoch: 258 | Train loss: 0.000 | Test loss: 0.001 | Weights: 0.302 | Bias: 0.900\n",
      "Epoch: 259 | Train loss: 0.000 | Test loss: 0.001 | Weights: 0.301 | Bias: 0.898\n",
      "Epoch: 260 | Train loss: 0.001 | Test loss: 0.001 | Weights: 0.301 | Bias: 0.900\n",
      "Epoch: 261 | Train loss: 0.000 | Test loss: 0.001 | Weights: 0.301 | Bias: 0.900\n",
      "Epoch: 262 | Train loss: 0.000 | Test loss: 0.001 | Weights: 0.302 | Bias: 0.900\n",
      "Epoch: 263 | Train loss: 0.000 | Test loss: 0.001 | Weights: 0.301 | Bias: 0.898\n",
      "Epoch: 264 | Train loss: 0.000 | Test loss: 0.001 | Weights: 0.301 | Bias: 0.900\n",
      "Epoch: 265 | Train loss: 0.000 | Test loss: 0.001 | Weights: 0.302 | Bias: 0.900\n",
      "Epoch: 266 | Train loss: 0.000 | Test loss: 0.001 | Weights: 0.301 | Bias: 0.898\n",
      "Epoch: 267 | Train loss: 0.001 | Test loss: 0.001 | Weights: 0.301 | Bias: 0.900\n",
      "Epoch: 268 | Train loss: 0.000 | Test loss: 0.001 | Weights: 0.301 | Bias: 0.900\n",
      "Epoch: 269 | Train loss: 0.000 | Test loss: 0.001 | Weights: 0.302 | Bias: 0.900\n",
      "Epoch: 270 | Train loss: 0.000 | Test loss: 0.001 | Weights: 0.301 | Bias: 0.898\n",
      "Epoch: 271 | Train loss: 0.000 | Test loss: 0.001 | Weights: 0.301 | Bias: 0.900\n",
      "Epoch: 272 | Train loss: 0.000 | Test loss: 0.001 | Weights: 0.302 | Bias: 0.900\n",
      "Epoch: 273 | Train loss: 0.000 | Test loss: 0.001 | Weights: 0.301 | Bias: 0.898\n",
      "Epoch: 274 | Train loss: 0.001 | Test loss: 0.001 | Weights: 0.301 | Bias: 0.900\n",
      "Epoch: 275 | Train loss: 0.000 | Test loss: 0.001 | Weights: 0.301 | Bias: 0.900\n",
      "Epoch: 276 | Train loss: 0.000 | Test loss: 0.001 | Weights: 0.302 | Bias: 0.900\n",
      "Epoch: 277 | Train loss: 0.000 | Test loss: 0.001 | Weights: 0.301 | Bias: 0.898\n",
      "Epoch: 278 | Train loss: 0.000 | Test loss: 0.001 | Weights: 0.301 | Bias: 0.900\n",
      "Epoch: 279 | Train loss: 0.000 | Test loss: 0.001 | Weights: 0.302 | Bias: 0.900\n",
      "Epoch: 280 | Train loss: 0.000 | Test loss: 0.001 | Weights: 0.301 | Bias: 0.898\n",
      "Epoch: 281 | Train loss: 0.001 | Test loss: 0.001 | Weights: 0.301 | Bias: 0.900\n",
      "Epoch: 282 | Train loss: 0.000 | Test loss: 0.001 | Weights: 0.301 | Bias: 0.900\n",
      "Epoch: 283 | Train loss: 0.000 | Test loss: 0.001 | Weights: 0.302 | Bias: 0.900\n",
      "Epoch: 284 | Train loss: 0.000 | Test loss: 0.001 | Weights: 0.301 | Bias: 0.898\n",
      "Epoch: 285 | Train loss: 0.000 | Test loss: 0.001 | Weights: 0.301 | Bias: 0.900\n",
      "Epoch: 286 | Train loss: 0.000 | Test loss: 0.001 | Weights: 0.302 | Bias: 0.900\n",
      "Epoch: 287 | Train loss: 0.000 | Test loss: 0.001 | Weights: 0.301 | Bias: 0.898\n",
      "Epoch: 288 | Train loss: 0.001 | Test loss: 0.001 | Weights: 0.301 | Bias: 0.900\n",
      "Epoch: 289 | Train loss: 0.000 | Test loss: 0.001 | Weights: 0.301 | Bias: 0.900\n",
      "Epoch: 290 | Train loss: 0.000 | Test loss: 0.001 | Weights: 0.302 | Bias: 0.900\n",
      "Epoch: 291 | Train loss: 0.000 | Test loss: 0.001 | Weights: 0.301 | Bias: 0.898\n",
      "Epoch: 292 | Train loss: 0.000 | Test loss: 0.001 | Weights: 0.301 | Bias: 0.900\n",
      "Epoch: 293 | Train loss: 0.000 | Test loss: 0.001 | Weights: 0.302 | Bias: 0.900\n",
      "Epoch: 294 | Train loss: 0.000 | Test loss: 0.001 | Weights: 0.301 | Bias: 0.898\n",
      "Epoch: 295 | Train loss: 0.001 | Test loss: 0.001 | Weights: 0.301 | Bias: 0.900\n",
      "Epoch: 296 | Train loss: 0.000 | Test loss: 0.001 | Weights: 0.301 | Bias: 0.900\n",
      "Epoch: 297 | Train loss: 0.000 | Test loss: 0.001 | Weights: 0.302 | Bias: 0.900\n",
      "Epoch: 298 | Train loss: 0.000 | Test loss: 0.001 | Weights: 0.301 | Bias: 0.898\n",
      "Epoch: 299 | Train loss: 0.000 | Test loss: 0.001 | Weights: 0.301 | Bias: 0.900\n"
     ]
    }
   ],
   "execution_count": 9
  },
  {
   "cell_type": "markdown",
   "source": [
    "## 4. Make predictions with the trained model on the test data.\n",
    "  * Visualize these predictions against the original training and testing data (**note:** you may need to make sure the predictions are *not* on the GPU if you want to use non-CUDA-enabled libraries such as matplotlib to plot)."
   ],
   "metadata": {
    "id": "x4j4TM18jwa7"
   }
  },
  {
   "cell_type": "code",
   "source": [
    "# Make predictions with the model\n",
    "test_pred = model(test_dataset)"
   ],
   "metadata": {
    "id": "bbMPK5Qjjyx_",
    "ExecuteTime": {
     "end_time": "2024-10-11T02:09:36.275398Z",
     "start_time": "2024-10-11T02:09:36.274248Z"
    }
   },
   "outputs": [],
   "execution_count": 10
  },
  {
   "cell_type": "code",
   "source": [
    "# Plot the predictions (these may need to be on a specific device)\n",
    "plt.scatter(train_dataset, y[:80])\n",
    "plt.scatter(test_dataset, y[80:])\n",
    "plt.scatter(test_dataset, test_pred.detach().numpy())"
   ],
   "metadata": {
    "id": "K3BdmQaDpFo8",
    "ExecuteTime": {
     "end_time": "2024-10-11T02:09:36.380993Z",
     "start_time": "2024-10-11T02:09:36.332931Z"
    }
   },
   "outputs": [
    {
     "data": {
      "text/plain": [
       "<matplotlib.collections.PathCollection at 0x7b6032f1bd40>"
      ]
     },
     "execution_count": 11,
     "metadata": {},
     "output_type": "execute_result"
    },
    {
     "data": {
      "text/plain": [
       "<Figure size 640x480 with 1 Axes>"
      ],
      "image/png": "[encoded data removed]"
     },
     "metadata": {},
     "output_type": "display_data"
    }
   ],
   "execution_count": 11
  },
  {
   "cell_type": "markdown",
   "source": [
    "## 5. Save your trained model's `state_dict()` to file.\n",
    "  * Create a new instance of your model class you made in 2. and load in the `state_dict()` you just saved to it.\n",
    "  * Perform predictions on your test data with the loaded model and confirm they match the original model predictions from 4."
   ],
   "metadata": {
    "id": "s2OnlMWKjzX8"
   }
  },
  {
   "cell_type": "code",
   "source": [
    "from pathlib import Path\n",
    "\n",
    "# 1. Create models directory\n",
    "path = Path(\"models\")\n",
    "\n",
    "\n",
    "# 2. Create model save path\n",
    "model_save_path = path / \"linear_regression_model.pt\"\n",
    "\n",
    "# 3. Save the model state dict\n",
    "torch.save(model.state_dict(), model_save_path)"
   ],
   "metadata": {
    "id": "hgxhgD14qr-i",
    "ExecuteTime": {
     "end_time": "2024-10-11T02:09:36.408337Z",
     "start_time": "2024-10-11T02:09:36.406788Z"
    }
   },
   "outputs": [],
   "execution_count": 12
  },
  {
   "cell_type": "code",
   "source": [
    "# Create new instance of model and load saved state dict (make sure to put it on the target device)\n"
   ],
   "metadata": {
    "id": "P9vTgiLRrJ7T",
    "ExecuteTime": {
     "end_time": "2024-10-11T02:09:36.469679Z",
     "start_time": "2024-10-11T02:09:36.468076Z"
    }
   },
   "outputs": [],
   "execution_count": 13
  },
  {
   "cell_type": "code",
   "source": [
    "# Make predictions with loaded model and compare them to the previous\n"
   ],
   "metadata": {
    "id": "8UGX3VebrVtI",
    "ExecuteTime": {
     "end_time": "2024-10-11T02:09:36.529411Z",
     "start_time": "2024-10-11T02:09:36.528059Z"
    }
   },
   "outputs": [],
   "execution_count": 14
  }
 ]
}
